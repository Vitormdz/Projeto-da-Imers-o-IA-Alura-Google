{
  "nbformat": 4,
  "nbformat_minor": 0,
  "metadata": {
    "colab": {
      "provenance": [],
      "include_colab_link": true
    },
    "kernelspec": {
      "name": "python3",
      "display_name": "Python 3"
    },
    "language_info": {
      "name": "python"
    }
  },
  "cells": [
    {
      "cell_type": "markdown",
      "metadata": {
        "id": "view-in-github",
        "colab_type": "text"
      },
      "source": [
        "<a href=\"https://colab.research.google.com/github/Vitormdz/Projeto-da-Imers-o-IA-Alura-Google/blob/main/Projeto_Imers%C3%A3o_IA_Alura_%2B_Google_Gemini_Aula_05_Agentes.ipynb\" target=\"_parent\"><img src=\"https://colab.research.google.com/assets/colab-badge.svg\" alt=\"Open In Colab\"/></a>"
      ]
    },
    {
      "cell_type": "code",
      "source": [
        "%pip -q install google-genai"
      ],
      "metadata": {
        "id": "UCCbECexLk_h"
      },
      "execution_count": null,
      "outputs": []
    },
    {
      "cell_type": "code",
      "source": [
        "# Configura a API Key do Google Gemini\n",
        "\n",
        "import os\n",
        "from google.colab import userdata\n",
        "\n",
        "os.environ[\"GOOGLE_API_KEY\"] = userdata.get('GOOGLE_API_KEY')"
      ],
      "metadata": {
        "id": "NfCqHo1tLk8P"
      },
      "execution_count": null,
      "outputs": []
    },
    {
      "cell_type": "code",
      "source": [
        "# Configura o cliente da SDK do Gemini\n",
        "\n",
        "from google import genai\n",
        "\n",
        "client = genai.Client()\n",
        "\n",
        "MODEL_ID = \"gemini-2.0-flash\""
      ],
      "metadata": {
        "id": "bV4w0H5TLk5g"
      },
      "execution_count": null,
      "outputs": []
    },
    {
      "cell_type": "code",
      "source": [
        "# Pergunta ao Gemini uma informação mais recente que seu conhecimento\n",
        "\n",
        "from IPython.display import HTML, Markdown\n",
        "\n",
        "# Perguntar pro modelo quando é a próxima imersão de IA ###############################################\n",
        "resposta = client.models.generate_content(\n",
        "    model=MODEL_ID,\n",
        "    contents='Quando é a próxima Imersão IA com Google Gemini da Alura?',\n",
        ")\n",
        "# Exibe a resposta na tela\n",
        "display(Markdown(f\"Resposta:\\n {resposta.text}\"))"
      ],
      "metadata": {
        "id": "HwVP7Xi34Zuw",
        "colab": {
          "base_uri": "https://localhost:8080/",
          "height": 145
        },
        "outputId": "4ce404f6-b54e-476a-96df-7ea7ddd592fe"
      },
      "execution_count": null,
      "outputs": [
        {
          "output_type": "display_data",
          "data": {
            "text/plain": [
              "<IPython.core.display.Markdown object>"
            ],
            "text/markdown": "Resposta:\n A Alura não tem uma data fixa para a Imersão IA com Google Gemini. A melhor forma de saber quando a próxima edição acontecerá é:\n\n*   **Acompanhar as redes sociais da Alura:** Eles costumam anunciar novas edições em seus perfis no Instagram, LinkedIn, Twitter e Facebook.\n*   **Ficar de olho no site da Alura:** A página da Imersão IA com Google Gemini (se houver uma ativa) ou a página de eventos da Alura geralmente terá as informações sobre próximas edições.\n*   **Assinar a newsletter da Alura:** Assim, você receberá atualizações diretamente no seu e-mail.\n\nEspero que consiga participar da próxima!"
          },
          "metadata": {}
        }
      ]
    },
    {
      "cell_type": "code",
      "source": [
        "resposta = client.models.generate_content(\n",
        "    model=MODEL_ID,\n",
        "    contents='Quando é a próxima Imersão IA com Google Gemini da Alura?',\n",
        "    config={\"tools\": [{\"google_search\": {}}]}\n",
        ")\n",
        "\n",
        "# Exibe a resposta na tela\n",
        "display(Markdown(f\"Resposta:\\n {resposta.text}\"))"
      ],
      "metadata": {
        "colab": {
          "base_uri": "https://localhost:8080/",
          "height": 46
        },
        "id": "rAp1zXcplEXy",
        "outputId": "585584da-a21e-448b-9254-898b168089ea"
      },
      "execution_count": null,
      "outputs": [
        {
          "output_type": "display_data",
          "data": {
            "text/plain": [
              "<IPython.core.display.Markdown object>"
            ],
            "text/markdown": "Resposta:\n A próxima Imersão IA com Google Gemini da Alura ocorreu de 12 a 16 de maio de 2025. As inscrições foram até 11 de maio de 2025.\n"
          },
          "metadata": {}
        }
      ]
    },
    {
      "cell_type": "code",
      "source": [
        "# Exibe a busca\n",
        "print(f\"Busca realizada: {resposta.candidates[0].grounding_metadata.web_search_queries}\")\n",
        "# Exibe as URLs nas quais ele se baseou\n",
        "print(f\"Páginas utilizadas na resposta: {', '.join([site.web.title for site in resposta.candidates[0].grounding_metadata.grounding_chunks])}\")\n",
        "print()\n",
        "display(HTML(resposta.candidates[0].grounding_metadata.search_entry_point.rendered_content))"
      ],
      "metadata": {
        "id": "xHSNlTd84heJ",
        "colab": {
          "base_uri": "https://localhost:8080/",
          "height": 119
        },
        "outputId": "6374b50d-5c82-4c86-b615-22dbc502e6a9"
      },
      "execution_count": null,
      "outputs": [
        {
          "output_type": "stream",
          "name": "stdout",
          "text": [
            "Busca realizada: ['próxima imersão IA Alura Google Gemini']\n",
            "Páginas utilizadas na resposta: thallesbenicio.com.br, youtube.com\n",
            "\n"
          ]
        },
        {
          "output_type": "display_data",
          "data": {
            "text/plain": [
              "<IPython.core.display.HTML object>"
            ],
            "text/html": [
              "<style>\n",
              ".container {\n",
              "  align-items: center;\n",
              "  border-radius: 8px;\n",
              "  display: flex;\n",
              "  font-family: Google Sans, Roboto, sans-serif;\n",
              "  font-size: 14px;\n",
              "  line-height: 20px;\n",
              "  padding: 8px 12px;\n",
              "}\n",
              ".chip {\n",
              "  display: inline-block;\n",
              "  border: solid 1px;\n",
              "  border-radius: 16px;\n",
              "  min-width: 14px;\n",
              "  padding: 5px 16px;\n",
              "  text-align: center;\n",
              "  user-select: none;\n",
              "  margin: 0 8px;\n",
              "  -webkit-tap-highlight-color: transparent;\n",
              "}\n",
              ".carousel {\n",
              "  overflow: auto;\n",
              "  scrollbar-width: none;\n",
              "  white-space: nowrap;\n",
              "  margin-right: -12px;\n",
              "}\n",
              ".headline {\n",
              "  display: flex;\n",
              "  margin-right: 4px;\n",
              "}\n",
              ".gradient-container {\n",
              "  position: relative;\n",
              "}\n",
              ".gradient {\n",
              "  position: absolute;\n",
              "  transform: translate(3px, -9px);\n",
              "  height: 36px;\n",
              "  width: 9px;\n",
              "}\n",
              "@media (prefers-color-scheme: light) {\n",
              "  .container {\n",
              "    background-color: #fafafa;\n",
              "    box-shadow: 0 0 0 1px #0000000f;\n",
              "  }\n",
              "  .headline-label {\n",
              "    color: #1f1f1f;\n",
              "  }\n",
              "  .chip {\n",
              "    background-color: #ffffff;\n",
              "    border-color: #d2d2d2;\n",
              "    color: #5e5e5e;\n",
              "    text-decoration: none;\n",
              "  }\n",
              "  .chip:hover {\n",
              "    background-color: #f2f2f2;\n",
              "  }\n",
              "  .chip:focus {\n",
              "    background-color: #f2f2f2;\n",
              "  }\n",
              "  .chip:active {\n",
              "    background-color: #d8d8d8;\n",
              "    border-color: #b6b6b6;\n",
              "  }\n",
              "  .logo-dark {\n",
              "    display: none;\n",
              "  }\n",
              "  .gradient {\n",
              "    background: linear-gradient(90deg, #fafafa 15%, #fafafa00 100%);\n",
              "  }\n",
              "}\n",
              "@media (prefers-color-scheme: dark) {\n",
              "  .container {\n",
              "    background-color: #1f1f1f;\n",
              "    box-shadow: 0 0 0 1px #ffffff26;\n",
              "  }\n",
              "  .headline-label {\n",
              "    color: #fff;\n",
              "  }\n",
              "  .chip {\n",
              "    background-color: #2c2c2c;\n",
              "    border-color: #3c4043;\n",
              "    color: #fff;\n",
              "    text-decoration: none;\n",
              "  }\n",
              "  .chip:hover {\n",
              "    background-color: #353536;\n",
              "  }\n",
              "  .chip:focus {\n",
              "    background-color: #353536;\n",
              "  }\n",
              "  .chip:active {\n",
              "    background-color: #464849;\n",
              "    border-color: #53575b;\n",
              "  }\n",
              "  .logo-light {\n",
              "    display: none;\n",
              "  }\n",
              "  .gradient {\n",
              "    background: linear-gradient(90deg, #1f1f1f 15%, #1f1f1f00 100%);\n",
              "  }\n",
              "}\n",
              "</style>\n",
              "<div class=\"container\">\n",
              "  <div class=\"headline\">\n",
              "    <svg class=\"logo-light\" width=\"18\" height=\"18\" viewBox=\"9 9 35 35\" fill=\"none\" xmlns=\"http://www.w3.org/2000/svg\">\n",
              "      <path fill-rule=\"evenodd\" clip-rule=\"evenodd\" d=\"M42.8622 27.0064C42.8622 25.7839 42.7525 24.6084 42.5487 23.4799H26.3109V30.1568H35.5897C35.1821 32.3041 33.9596 34.1222 32.1258 35.3448V39.6864H37.7213C40.9814 36.677 42.8622 32.2571 42.8622 27.0064V27.0064Z\" fill=\"#4285F4\"/>\n",
              "      <path fill-rule=\"evenodd\" clip-rule=\"evenodd\" d=\"M26.3109 43.8555C30.9659 43.8555 34.8687 42.3195 37.7213 39.6863L32.1258 35.3447C30.5898 36.3792 28.6306 37.0061 26.3109 37.0061C21.8282 37.0061 18.0195 33.9811 16.6559 29.906H10.9194V34.3573C13.7563 39.9841 19.5712 43.8555 26.3109 43.8555V43.8555Z\" fill=\"#34A853\"/>\n",
              "      <path fill-rule=\"evenodd\" clip-rule=\"evenodd\" d=\"M16.6559 29.8904C16.3111 28.8559 16.1074 27.7588 16.1074 26.6146C16.1074 25.4704 16.3111 24.3733 16.6559 23.3388V18.8875H10.9194C9.74388 21.2072 9.06992 23.8247 9.06992 26.6146C9.06992 29.4045 9.74388 32.022 10.9194 34.3417L15.3864 30.8621L16.6559 29.8904V29.8904Z\" fill=\"#FBBC05\"/>\n",
              "      <path fill-rule=\"evenodd\" clip-rule=\"evenodd\" d=\"M26.3109 16.2386C28.85 16.2386 31.107 17.1164 32.9095 18.8091L37.8466 13.8719C34.853 11.082 30.9659 9.3736 26.3109 9.3736C19.5712 9.3736 13.7563 13.245 10.9194 18.8875L16.6559 23.3388C18.0195 19.2636 21.8282 16.2386 26.3109 16.2386V16.2386Z\" fill=\"#EA4335\"/>\n",
              "    </svg>\n",
              "    <svg class=\"logo-dark\" width=\"18\" height=\"18\" viewBox=\"0 0 48 48\" xmlns=\"http://www.w3.org/2000/svg\">\n",
              "      <circle cx=\"24\" cy=\"23\" fill=\"#FFF\" r=\"22\"/>\n",
              "      <path d=\"M33.76 34.26c2.75-2.56 4.49-6.37 4.49-11.26 0-.89-.08-1.84-.29-3H24.01v5.99h8.03c-.4 2.02-1.5 3.56-3.07 4.56v.75l3.91 2.97h.88z\" fill=\"#4285F4\"/>\n",
              "      <path d=\"M15.58 25.77A8.845 8.845 0 0 0 24 31.86c1.92 0 3.62-.46 4.97-1.31l4.79 3.71C31.14 36.7 27.65 38 24 38c-5.93 0-11.01-3.4-13.45-8.36l.17-1.01 4.06-2.85h.8z\" fill=\"#34A853\"/>\n",
              "      <path d=\"M15.59 20.21a8.864 8.864 0 0 0 0 5.58l-5.03 3.86c-.98-2-1.53-4.25-1.53-6.64 0-2.39.55-4.64 1.53-6.64l1-.22 3.81 2.98.22 1.08z\" fill=\"#FBBC05\"/>\n",
              "      <path d=\"M24 14.14c2.11 0 4.02.75 5.52 1.98l4.36-4.36C31.22 9.43 27.81 8 24 8c-5.93 0-11.01 3.4-13.45 8.36l5.03 3.85A8.86 8.86 0 0 1 24 14.14z\" fill=\"#EA4335\"/>\n",
              "    </svg>\n",
              "    <div class=\"gradient-container\"><div class=\"gradient\"></div></div>\n",
              "  </div>\n",
              "  <div class=\"carousel\">\n",
              "    <a class=\"chip\" href=\"https://vertexaisearch.cloud.google.com/grounding-api-redirect/AbF9wXHA4OkPxgn-Bfo3HycCKFe59PZ9gngfUcQEwZ0o907MrAQEXhSwVWgh6lJ6vcEtdlLj20HFpX2cC7m-mcBf45DaKim4NXuGrR4g0Q98fvccovSeFShIaLg7EtjDWAsor1QFQXgBFuUxwPX-CkJTskg6VH3RDFSxsoWjRa5D7ypCxqVUKXBTlNnPR8f0Lv8VGwC0UA_nZjsUAKCnty0fTp7KpL0PQ_TAH4Bz_rCqfj4ydEUr\">próxima imersão IA Alura Google Gemini</a>\n",
              "  </div>\n",
              "</div>\n"
            ]
          },
          "metadata": {}
        }
      ]
    },
    {
      "cell_type": "code",
      "source": [
        "# Instalar Framework ADK de agentes do Google ################################################\n",
        "!pip install -q google-adk"
      ],
      "metadata": {
        "id": "hvZ3UnPI4jhJ"
      },
      "execution_count": null,
      "outputs": []
    },
    {
      "cell_type": "code",
      "execution_count": null,
      "metadata": {
        "id": "aePV2bdfDeoW"
      },
      "outputs": [],
      "source": [
        "from google.adk.agents import Agent\n",
        "from google.adk.runners import Runner\n",
        "from google.adk.sessions import InMemorySessionService\n",
        "from google.adk.tools import google_search\n",
        "from google.genai import types  # Para criar conteúdos (Content e Part)\n",
        "from datetime import date\n",
        "import textwrap # Para formatar melhor a saída de texto\n",
        "from IPython.display import display, Markdown # Para exibir texto formatado no Colab\n",
        "import requests # Para fazer requisições HTTP\n",
        "import warnings\n",
        "\n",
        "warnings.filterwarnings(\"ignore\")"
      ]
    },
    {
      "cell_type": "code",
      "source": [
        "# Função auxiliar que envia uma mensagem para um agente via Runner e retorna a resposta final\n",
        "def call_agent(agent: Agent, message_text: str) -> str:\n",
        "    # Cria um serviço de sessão em memória\n",
        "    session_service = InMemorySessionService()\n",
        "    # Cria uma nova sessão (você pode personalizar os IDs conforme necessário)\n",
        "    session = session_service.create_session(app_name=agent.name, user_id=\"user1\", session_id=\"session1\")\n",
        "    # Cria um Runner para o agente\n",
        "    runner = Runner(agent=agent, app_name=agent.name, session_service=session_service)\n",
        "    # Cria o conteúdo da mensagem de entrada\n",
        "    content = types.Content(role=\"user\", parts=[types.Part(text=message_text)])\n",
        "\n",
        "    final_response = \"\"\n",
        "    # Itera assincronamente pelos eventos retornados durante a execução do agente\n",
        "    for event in runner.run(user_id=\"user1\", session_id=\"session1\", new_message=content):\n",
        "        if event.is_final_response():\n",
        "          for part in event.content.parts:\n",
        "            if part.text is not None:\n",
        "              final_response += part.text\n",
        "              final_response += \"\\n\"\n",
        "    return final_response"
      ],
      "metadata": {
        "id": "_xP4lWhsS5ko"
      },
      "execution_count": null,
      "outputs": []
    },
    {
      "cell_type": "code",
      "source": [
        "# Função auxiliar para exibir texto formatado em Markdown no Colab\n",
        "def to_markdown(text):\n",
        "  text = text.replace('•', '  *')\n",
        "  return Markdown(textwrap.indent(text, '> ', predicate=lambda _: True))"
      ],
      "metadata": {
        "id": "8dosiodaxfFR"
      },
      "execution_count": null,
      "outputs": []
    },
    {
      "cell_type": "code",
      "source": [
        "##########################################\n",
        "# --- Agente 1: Buscador de Vagas --- #\n",
        "##########################################\n",
        "def agente_busca_vagas(area, data_de_hoje):\n",
        "\n",
        "  buscador = Agent(\n",
        "      name=\"agente_busca_vagas\",\n",
        "      model=\"gemini-2.0-flash\",\n",
        "      description=\"agente que busca vagas de empregos na área indicada\",\n",
        "      tools=[google_search],\n",
        "      instruction=\"\"\"\n",
        "      Você é um assistente de pesquisa. A sua tarefa é usar a ferramenta de busca do google (google_search)\n",
        "      para recuperar as informações sobre vagas de emprego na área indicada.\n",
        "      traga também os links das vagas encontradas, eles serão utilizados mais tarde.\n",
        "      Foque no máximo em 10 vagas relevantes.\n",
        "      Essas vagas devem ser recentes, de no máximo um mês antes da data de hoje.\n",
        "      \"\"\"\n",
        "\n",
        "\n",
        "  )\n",
        "  entrada_do_agente_busca_vagas = f\"Área: {area}\\nData de hoje: {data_de_hoje}\"\n",
        "  # Executa o agente\n",
        "  vagas = call_agent(buscador, entrada_do_agente_busca_vagas)\n",
        "  return vagas"
      ],
      "metadata": {
        "id": "o8bqIfi_DyH8"
      },
      "execution_count": null,
      "outputs": []
    },
    {
      "cell_type": "code",
      "source": [
        "################################################\n",
        "# --- Agente 2: Filtragem de Vagas --- #\n",
        "################################################\n",
        "def agente_de_filtragem(area, lancamentos_buscados):\n",
        "    filtrador = Agent(\n",
        "        name=\"agente_de_filtragem\",\n",
        "        model=\"gemini-2.0-flash\",\n",
        "        # Inserir as instruções do Agente Planejador #################################################\n",
        "        instruction=\"\"\"\n",
        "        Você é um recrutador que faz a triagem de vagas de emprego.\n",
        "        Com base nas vagas mais recentes e relevantes buscadas, você deve:\n",
        "        Usar a ferramenta de busca do google (google_search), para fazer uma triagem das vagas encontradas, tendo como base\n",
        "        as informações encontradas na descrição da vaga, como benefícios, salário, pré-requisitos e apresentar as cinco mais relevantes.\n",
        "\n",
        "        \"\"\",\n",
        "        description=\"Agente que faz a triagem das vagas encontradas\",\n",
        "        tools=[google_search]\n",
        "    )\n",
        "\n",
        "    entrada_do_agente_de_filtragem = f\"Área:{area}\\nVagas buscadas: {lancamentos_buscados}\"\n",
        "    # Executa o agente\n",
        "    selecao_de_vaga = call_agent(filtrador, entrada_do_agente_de_filtragem)\n",
        "    return selecao_de_vaga"
      ],
      "metadata": {
        "id": "y3VO1uo5_ghO"
      },
      "execution_count": null,
      "outputs": []
    },
    {
      "cell_type": "code",
      "source": [
        "######################################\n",
        "# --- Agente 3: Coach de Carreira --- #\n",
        "######################################\n",
        "def agente_coach(area, selecao_de_vaga):\n",
        "    coach = Agent(\n",
        "        name=\"agente_coach\",\n",
        "        model=\"gemini-2.0-flash\",\n",
        "        instruction=\"\"\"\n",
        "            Você é um Coach de carreiras, especializado em ajudar pessoas a aplicar para vagas de emprego.\n",
        "            Você vai receber as cinco vagas filtradas na seleção de vaga e escolher a mais relevante.\n",
        "            Aponte os pontos mais relevantes e apresente dicas de como ter mais chances de ser contratado.\n",
        "            Iclua dicas para a entrevista e os principais tópicos que podem ser abordados.\n",
        "            \"\"\",\n",
        "        description=\"Agente Coach de carreira\"\n",
        "    )\n",
        "    entrada_do_agente_redator = f\"Área: {area}\\nSeleção de vaga: {selecao_de_vaga}\"\n",
        "    # Executa o agente\n",
        "    rascunho = call_agent(coach, entrada_do_agente_redator)\n",
        "    return rascunho"
      ],
      "metadata": {
        "id": "uOqlg2TRLVh1"
      },
      "execution_count": null,
      "outputs": []
    },
    {
      "cell_type": "code",
      "source": [
        "##########################################\n",
        "# --- Agente 4: Revisor de Qualidade --- #\n",
        "##########################################\n",
        "def agente_revisor(area, rascunho_gerado):\n",
        "    revisor = Agent(\n",
        "        name=\"agente_revisor\",\n",
        "        model=\"gemini-2.0-flash\",\n",
        "        instruction=\"\"\"\n",
        "            Você é um Coach de carreiras meticuloso, especializado em planejar candidaturas a vagas de emprego.\n",
        "            Revise o rascunho sobre o tópico indicado, verificando clareza, concisão, correção e tom.\n",
        "            Se o rascunho estiver bom, responda apenas 'O rascunho está ótimo e pronto para a candidatura!'.\n",
        "            Caso haja problemas, aponte-os e sugira melhorias.\n",
        "            \"\"\",\n",
        "        description=\"Agente revisor plano de aplicação a vagas.\"\n",
        "    )\n",
        "    entrada_do_agente_revisor = f\"Área: {area}\\nRascunho: {rascunho_gerado}\"\n",
        "    # Executa o agente\n",
        "    texto_revisado = call_agent(revisor, entrada_do_agente_revisor)\n",
        "    return texto_revisado"
      ],
      "metadata": {
        "id": "_aTb1SdkLeT6"
      },
      "execution_count": null,
      "outputs": []
    },
    {
      "cell_type": "code",
      "source": [
        "data_de_hoje = date.today().strftime(\"%d/%m/%Y\")\n",
        "\n",
        "print(\"🚀 Iniciando o Sistema de Busca de vagas de emprego com 4 Agentes 🚀\")\n",
        "\n",
        "# --- Obter o Tópico do Usuário ---\n",
        "area = input(\"❓ Por favor, digite a ÁREA na qual você deseja encontrar uma vaga: \")\n",
        "\n",
        "# Inserir lógica do sistema de agentes ################################################\n",
        "\n",
        "if not area:\n",
        "  print(\"Você esqueceu de digitar a área!\")\n",
        "\n",
        "else:\n",
        "  print(\"Ótimo! Então vamos encontrar sua vaga!\")\n",
        "\n",
        "\n",
        "  vagas_buscadas = agente_busca_vagas(area, data_de_hoje)\n",
        "  print(\"\\n--- Resultado do agente 1 (Buscador) ---\\n\")\n",
        "  display(to_markdown(vagas_buscadas))\n",
        "  print(\"--------------------------------------------------------\")\n",
        "\n",
        "  selecao_de_vaga = agente_de_filtragem(area, vagas_buscadas)\n",
        "  print(\"\\n--- Resultado do agente 2 (Filtrador) ---\\n\")\n",
        "  display(to_markdown(selecao_de_vaga))\n",
        "  print(\"--------------------------------------------------------\")\n",
        "\n",
        "  # Renomeado a variável 'coached' para 'coach_result' para evitar conflito com a função agente_coach\n",
        "  coach_result = agente_coach(area, selecao_de_vaga)\n",
        "  print(\"\\n--- Resultado do agente 3 (Coach) ---\\n\")\n",
        "  display(to_markdown(coach_result))\n",
        "\n",
        "\n",
        "  resultado_final = agente_revisor(area, coach_result)\n",
        "  print(\"\\n--- Resultado do agente 4 (Revisor) ---\\n\")\n",
        "  display(to_markdown(resultado_final))\n",
        "\n"
      ],
      "metadata": {
        "id": "630ummxz4myx",
        "colab": {
          "base_uri": "https://localhost:8080/",
          "height": 1000
        },
        "outputId": "acf46b1e-75f4-4d88-8214-412428815e3c"
      },
      "execution_count": null,
      "outputs": [
        {
          "output_type": "stream",
          "name": "stdout",
          "text": [
            "🚀 Iniciando o Sistema de Busca de vagas de emprego com 4 Agentes 🚀\n",
            "❓ Por favor, digite a ÁREA na qual você deseja encontrar uma vaga: qa\n",
            "Ótimo! Então vamos encontrar sua vaga!\n",
            "\n",
            "--- Resultado do agente 1 (Buscador) ---\n",
            "\n"
          ]
        },
        {
          "output_type": "display_data",
          "data": {
            "text/plain": [
              "<IPython.core.display.Markdown object>"
            ],
            "text/markdown": "> Ok, vou procurar vagas de QA com data de publicação de no máximo um mês atrás (a partir de 17/05/2025).\n> \n> \n> Ok, com base na pesquisa, aqui estão algumas vagas de QA que encontrei e informações relevantes:\n> \n> **Vagas Encontradas:**\n> \n> *   **QA Analista de Testes (Remoto):** Coodesh (há 1 mês) - Remoto. (getVagas)\n> *   **QA Sênior (Remoto/Freelance):** ilegra - Projeto até 30.06.2025 (há 1 mês) - Remoto. (getVagas)\n> *   **QA Júnior (Remoto):** Devvo Tecnologia (há 1 mês) - Remoto. (getVagas)\n> *   **QA (Quality Assurance):** Coodesh (Belo Horizonte, Brasil) - Presencial (há 2 meses, pode estar desatualizada). (getVagas)\n> *   **Analista de Suporte TI:** Golden Empregos Contrata (há 1 dia). (getVagas)\n> *   **QA na V4 Company:** Campinas/SP (há 4 dias) - Remoto. (getVagas)\n> *   **Analista de Qualidade Junior:** Belo Horizonte – MG, Salário: R$ 3.789,00 (Catho)\n> *   **Analista de QA Júnior / P+D (Remoto):** BairesDev (Catho)\n> *   **Quality Assurance (QA) | Pleno/Sênior:** Kobe Apps - Home office (Indeed)\n> *   **Analista de Teste QA - Junior:** (Indeed)\n> \n> **Links:**\n> \n> *   getVagas: [https://www.getvagas.com.br/vagas/qa](https://www.getvagas.com.br/vagas/qa)\n> *   Indeed: Vários links para vagas específicas de QA Júnior, Pleno e Sênior (ver resultados da pesquisa).\n> *   Catho: Vários links para vagas específicas de QA Júnior (ver resultados da pesquisa).\n> \n> **Informações Salariais:**\n> \n> *   **QA Júnior:** Média de R$2.292/mês (Jooble)\n> *   **QA Pleno:** Média de R$78.000 anual (Talent.com) ou R$2.300/mês (Jooble)\n> *   **QA Engineer:** Média de R$4.535/mês (Jooble)\n> \n> **Observações:**\n> \n> *   Algumas vagas listadas nos resultados podem já estar fechadas ou desatualizadas (ex: vagas com mais de um mês).\n> *   Verifique as datas de publicação das vagas e os requisitos específicos de cada uma nos links fornecidos.\n> *   Consulte os sites Indeed e Catho para encontrar mais vagas e aplicar filtros de localização e nível de experiência.\n> \n> Espero que estas informações ajudem na sua busca!\n> \n"
          },
          "metadata": {}
        },
        {
          "output_type": "stream",
          "name": "stdout",
          "text": [
            "--------------------------------------------------------\n"
          ]
        },
        {
          "output_type": "stream",
          "name": "stderr",
          "text": [
            "ERROR:asyncio:Task exception was never retrieved\n",
            "future: <Task finished name='Task-358' coro=<AsyncClient.aclose() done, defined at /usr/local/lib/python3.11/dist-packages/httpx/_client.py:1978> exception=RuntimeError('Event loop is closed')>\n",
            "Traceback (most recent call last):\n",
            "  File \"/usr/local/lib/python3.11/dist-packages/httpx/_client.py\", line 1985, in aclose\n",
            "    await self._transport.aclose()\n",
            "  File \"/usr/local/lib/python3.11/dist-packages/httpx/_transports/default.py\", line 406, in aclose\n",
            "    await self._pool.aclose()\n",
            "  File \"/usr/local/lib/python3.11/dist-packages/httpcore/_async/connection_pool.py\", line 353, in aclose\n",
            "    await self._close_connections(closing_connections)\n",
            "  File \"/usr/local/lib/python3.11/dist-packages/httpcore/_async/connection_pool.py\", line 345, in _close_connections\n",
            "    await connection.aclose()\n",
            "  File \"/usr/local/lib/python3.11/dist-packages/httpcore/_async/connection.py\", line 173, in aclose\n",
            "    await self._connection.aclose()\n",
            "  File \"/usr/local/lib/python3.11/dist-packages/httpcore/_async/http11.py\", line 258, in aclose\n",
            "    await self._network_stream.aclose()\n",
            "  File \"/usr/local/lib/python3.11/dist-packages/httpcore/_backends/anyio.py\", line 53, in aclose\n",
            "    await self._stream.aclose()\n",
            "  File \"/usr/local/lib/python3.11/dist-packages/anyio/streams/tls.py\", line 216, in aclose\n",
            "    await self.transport_stream.aclose()\n",
            "  File \"/usr/local/lib/python3.11/dist-packages/anyio/_backends/_asyncio.py\", line 1314, in aclose\n",
            "    self._transport.close()\n",
            "  File \"/usr/lib/python3.11/asyncio/selector_events.py\", line 864, in close\n",
            "    self._loop.call_soon(self._call_connection_lost, None)\n",
            "  File \"/usr/lib/python3.11/asyncio/base_events.py\", line 762, in call_soon\n",
            "    self._check_closed()\n",
            "  File \"/usr/lib/python3.11/asyncio/base_events.py\", line 520, in _check_closed\n",
            "    raise RuntimeError('Event loop is closed')\n",
            "RuntimeError: Event loop is closed\n"
          ]
        },
        {
          "output_type": "stream",
          "name": "stdout",
          "text": [
            "\n",
            "--- Resultado do agente 2 (Filtrador) ---\n",
            "\n"
          ]
        },
        {
          "output_type": "display_data",
          "data": {
            "text/plain": [
              "<IPython.core.display.Markdown object>"
            ],
            "text/markdown": "> Com certeza! Para te ajudar a otimizar sua busca por vagas de QA, vou fazer uma triagem das opções listadas, focando nas mais recentes (publicadas no último mês a partir de 17/05/2025) e relevantes, considerando o que geralmente se busca em uma vaga de QA (benefícios, salário, requisitos):\n> \n> Para isso, vou realizar algumas pesquisas no Google para complementar as informações que você já levantou.\n> \n> \n> Com base nas informações que você forneceu e nas minhas pesquisas, aqui está uma análise das vagas de QA mais relevantes para você, levando em conta a data de publicação, benefícios, salários e requisitos:\n> \n> **Top 5 Vagas de QA (Triagem):**\n> \n> 1.  **QA Analista de Testes (Remoto) - Coodesh:**\n>     *   **Data de publicação:** Há 1 mês (a partir de 17/05/2025).\n>     *   **Localização:** Remoto.\n>     *   **Benefícios:** Horários Flexíveis, Gympass, Vale flexível, Plano de Saúde, Plano Odontológico, Seguro de Vida.\n>     *   **Requisitos:** Técnicas de Testes manuais; Planejamento de Testes a partir de requisitos/histórias; Cypress. SQL e Javascript são habilidades desejáveis.\n>     *   **Observações:** Vaga em uma *govtech* com foco em modernizar a relação entre setor público, cidadãos e empresas. Parece uma boa oportunidade para quem quer trabalhar com impacto social. Candidatura feita exclusivamente pela plataforma Coodesh.\n> \n> 2.  **QA Sênior (Remoto/Freelance) - ilegra:**\n>     *   **Data de publicação:** Há 1 mês (a partir de 17/05/2025).\n>     *   **Localização:** Remoto.\n>     *   **Benefícios:** A combinar (verificar no processo seletivo).\n>     *   **Requisitos:** Inglês fluente (será avaliado); Mínimo de 5 anos de experiência; Experiência internacional comprovada; Disponibilidade para atuação até 30/06/2025; Experiência com criação de planos e casos de teste; Experiência com execução de testes funcionais, de regressão, exploratórios, smoke, etc.; Experiência em projetos internacionais; Experiência com Postman e Splunk; Experiência com Scrum e Kanban; Experiência com JavaScript; Conhecimento em Cypress ou Playwright.\n>     *   **Observações:** Projeto com prazo determinado (até 30/06/2025). Exige inglês fluente e experiência sênior comprovada.\n> \n> 3.  **QA Júnior (Remoto) - Devvo Tecnologia:**\n>     *   **Data de publicação:** Há 1 mês (a partir de 17/05/2025).\n>     *   **Localização:** Remoto.\n>     *   **Benefícios:** Não especificados (entrar em contato com a empresa).\n>     *   **Requisitos:** Experiência no garantia de qualidade de aplicações Web e Mobile; Conhecimento em ferramentas de automação de testes, como Selenium, Cypress ou Appium; Proficiência em metodologias ágeis; Boas habilidades de comunicação e trabalho em equipe.\n>     *   **Observações:** Sediada em Brasília. Busca profissionais inovadores e apaixonados por tecnologia.\n> \n> 4.  **QA na V4 Company - Campinas/SP:**\n>     *   **Data de publicação:** Há 4 dias (a partir de 17/05/2025).\n>     *   **Localização:** Híbrido (2 dias remoto e 3 dias presencial em Campinas/SP).\n>     *   **Benefícios:** A V4 Company oferece uma série de benefícios, incluindo salários que podem chegar a R$ 5 mil ou mais, dependendo da experiência e da função, plano de saúde e Gympass.\n>     *   **Requisitos:** Bacharelado em Ciência da Computação, Engenharia de Software ou área relacionada; Experiência comprovada em testes de software, com ênfase em testes de API e automação; Conhecimento sólido de princípios e metodologias de teste de software; Proficiência em pelo menos uma linguagem de programação relevante para automação de testes (por exemplo, Python, Java, JavaScript); Experiência com ferramentas de automação de testes de API (por exemplo, Postman, REST Assured, Karate); Familiaridade com protocolos de API (REST, SOAP).\n>     *   **Observações:** A V4 Company está em expansão e oferece um ambiente de trabalho vibrante.\n> \n> 5.  **Analista de Qualidade Junior - Belo Horizonte – MG:**\n>     *   **Data de publicação:** Indeterminado (Catho).\n>     *   **Localização:** Belo Horizonte – MG (Presencial).\n>     *   **Salário:** R$ 3.789,00.\n>     *   **Benefícios:** Vale-alimentação (R$ 225,00), Vale-refeição (R$ 14,20 por dia), Vale-transporte, Programa Bem-Estar (Telemedicina, Total Pass, Vidalink Med, Vidalink Nutri, Vidalink Up), Assistência médica (Unimed), Assistência odontológica e parcerias com faculdades e o Sesc.\n>     *   **Requisitos:** Ensino superior completo ou em andamento em Administração, Engenharia, Gestão da Qualidade ou áreas afins; Habilidade no uso e interpretação de relatórios e indicadores; Disponibilidade para viagens (eventuais ou frequentes, conforme necessidade); Conhecimento em Pacote Office intermediário (ênfase em Excel). Desejável: conhecimento em ferramentas da qualidade (PDCA, 5W2H).\n>     *   **Observações:** Oportunidade para quem busca uma vaga presencial em BH com bons benefícios.\n> \n> **Considerações Adicionais:**\n> \n> *   **Salários:** Os salários para QA variam bastante dependendo do nível de experiência e da empresa. QA Júnior pode ganhar em média R$2.292/mês, enquanto QA Pleno pode chegar a R$78.000 anual.\n> *   **Outras Vagas:** Explore os sites Indeed e Catho para encontrar mais vagas e aplicar filtros de localização e nível de experiência.\n> *   **Atualização:** Verifique sempre a data de publicação das vagas e os requisitos específicos de cada uma nos links fornecidos, pois algumas informações podem estar desatualizadas.\n> \n> Espero que esta triagem detalhada te ajude a focar nas vagas mais promissoras para sua carreira em QA!\n"
          },
          "metadata": {}
        },
        {
          "output_type": "stream",
          "name": "stdout",
          "text": [
            "--------------------------------------------------------\n",
            "\n",
            "--- Resultado do agente 3 (Coach) ---\n",
            "\n"
          ]
        },
        {
          "output_type": "display_data",
          "data": {
            "text/plain": [
              "<IPython.core.display.Markdown object>"
            ],
            "text/markdown": "> Com prazer! Analisando as 5 vagas de QA que você listou, a que parece mais promissora, considerando um equilíbrio entre benefícios, desafios e potencial de crescimento, é a de:\n> \n> **QA Analista de Testes (Remoto) - Coodesh**\n> \n> **Por que essa vaga se destaca:**\n> \n> *   **Remoto:** Flexibilidade para trabalhar de qualquer lugar.\n> *   **Benefícios:** Pacote completo (Vale flexível, Plano de Saúde, Plano Odontológico, Seguro de Vida, Gympass).\n> *   **Requisitos:** Foco em habilidades práticas (Testes manuais, Planejamento de Testes, Cypress), com SQL e Javascript como diferenciais.\n> *   **Govtech:** Oportunidade de trabalhar em projetos com impacto social.\n> *   **Plataforma Coodesh:** Processo seletivo otimizado e focado em desenvolvedores.\n> \n> **Estratégias para aumentar suas chances de ser contratado:**\n> \n> 1.  **Destaque suas habilidades com Cypress:** Se você tem experiência com Cypress, essa é a hora de brilhar. Prepare exemplos de projetos ou testes que você desenvolveu usando essa ferramenta para mostrar seu conhecimento prático.\n> 2.  **Mostre sua capacidade de planejamento:** Detalhe sua experiência em planejar testes a partir de requisitos e histórias. Explique como você prioriza os testes, define a cobertura e garante a qualidade do software.\n> 3.  **Valorize suas habilidades em SQL e Javascript:** Mesmo que sejam habilidades desejáveis, mostre que você as possui e como elas podem agregar valor ao time de QA.\n> 4.  **Prepare-se para a plataforma Coodesh:** A Coodesh tem um formato próprio de avaliação. Pesquise sobre a plataforma, familiarize-se com os tipos de testes e desafios que eles propõem e treine suas habilidades técnicas.\n> 5.  **Pesquise sobre a empresa:** Descubra mais sobre a Coodesh, seus projetos, sua cultura e seus valores. Mostre que você está alinhado com a missão da empresa e que você quer fazer a diferença no setor público.\n> \n> **Dicas para a entrevista:**\n> \n> *   **Prepare-se para perguntas técnicas:** Espere perguntas sobre testes manuais, planejamento de testes, Cypress, SQL, Javascript e metodologias ágeis.\n> *   **Destaque sua experiência com projetos de impacto social:** Se você já trabalhou em projetos com foco em impacto social, conte sobre sua experiência e como você contribuiu para o sucesso desses projetos.\n> *   **Mostre suas habilidades de comunicação e trabalho em equipe:** Explique como você se comunica com o time de desenvolvimento, como você colabora para resolver problemas e como você se adapta a diferentes contextos.\n> *   **Faça perguntas relevantes:** Mostre seu interesse pela vaga e pela empresa fazendo perguntas sobre os projetos, os desafios, as tecnologias e as oportunidades de crescimento.\n> *   **Seja você mesmo:** Mostre sua paixão por QA, sua vontade de aprender e sua capacidade de fazer a diferença.\n> \n> **Tópicos que podem ser abordados na entrevista:**\n> \n> *   **Experiência com testes manuais e automatizados:** Detalhe sua experiência com diferentes tipos de testes, como testes funcionais, de regressão, de performance e de segurança.\n> *   **Conhecimento de metodologias ágeis:** Explique como você trabalha em um ambiente ágil, como você participa das cerimônias do Scrum ou Kanban e como você contribui para a melhoria contínua do processo.\n> *   **Habilidade de identificar e reportar bugs:** Mostre sua capacidade de encontrar bugs, documentá-los de forma clara e objetiva e acompanhar sua correção.\n> *   **Experiência com ferramentas de teste:** Mencione as ferramentas que você já utilizou, como Jira, TestRail, Selenium, Appium, etc.\n> *   **Conhecimento de métricas de qualidade:** Explique como você mede a qualidade do software, como você define metas e como você acompanha os resultados.\n> \n> Lembre-se de adaptar essas dicas à sua experiência e às suas habilidades. Boa sorte na sua candidatura!\n"
          },
          "metadata": {}
        },
        {
          "output_type": "stream",
          "name": "stdout",
          "text": [
            "\n",
            "--- Resultado do agente 4 (Revisor) ---\n",
            "\n"
          ]
        },
        {
          "output_type": "display_data",
          "data": {
            "text/plain": [
              "<IPython.core.display.Markdown object>"
            ],
            "text/markdown": "> O rascunho está ótimo e pronto para a candidatura!\n"
          },
          "metadata": {}
        }
      ]
    }
  ]
}